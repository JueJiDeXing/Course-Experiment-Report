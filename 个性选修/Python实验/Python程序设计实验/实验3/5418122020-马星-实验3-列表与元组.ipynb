{
 "cells": [
  {
   "cell_type": "markdown",
   "metadata": {},
   "source": [
    "## <center>实验三 列表与元组</center>"
   ]
  },
  {
   "cell_type": "markdown",
   "metadata": {},
   "source": [
    "姓名：马星                          学号：5418122020                   班级：计算机科学与技术(卓越工程师计划)221班"
   ]
  },
  {
   "cell_type": "markdown",
   "metadata": {},
   "source": [
    "### 一、实验目的\n",
    "1. 了解Python序列类型的基本概念与常用操作；\n",
    "2. 掌握列表、元组、字符串和数字序列等常用序列类型的使用方法；\n",
    "3. 理解列表与元组的区别。"
   ]
  },
  {
   "cell_type": "markdown",
   "metadata": {},
   "source": [
    "### 二、实验内容\n",
    "1. 练习列表、元组、字符串和数字序列对象的创建方法。 \n",
    "2. 利用多种方法实现斐波那契数列的输出，并比较不同实现方法的性能。\n",
    "3. 完成教材93页的课后练习第1、5、6题"
   ]
  },
  {
   "cell_type": "markdown",
   "metadata": {},
   "source": [
    "### 三 实验步骤"
   ]
  },
  {
   "cell_type": "markdown",
   "metadata": {},
   "source": [
    "1. 练习列表、元组、字符串和数字序列对象的创建方法。 "
   ]
  },
  {
   "cell_type": "code",
   "execution_count": 25,
   "metadata": {
    "ExecuteTime": {
     "end_time": "2024-05-04T08:32:37.259500600Z",
     "start_time": "2024-05-04T08:32:37.239201900Z"
    }
   },
   "outputs": [
    {
     "name": "stdout",
     "output_type": "stream",
     "text": [
      "列表对象创建结果:\n",
      "[]\n",
      "[]\n",
      "[0, 1, 2, 3, 4]\n",
      "[0, 1, 2, 3, 4]\n",
      "元组对象创建结果:\n",
      "()\n",
      "(1,)\n",
      "(1, 2)\n",
      "字符串对象创建结果:\n",
      "\n",
      "\n",
      "1\n",
      "[1, 2, 3]\n",
      "(1, 2)\n",
      "[1, 2, 3]\n",
      "数字序列对象创建结果:\n",
      "range(0, 5)\n",
      "range(3, 8)\n",
      "range(6, 2, -1)\n"
     ]
    }
   ],
   "source": [
    "import math\n",
    "import random\n",
    "\n",
    "# 列表对象创建\n",
    "list1 = []\n",
    "list2 = list()\n",
    "list3 = [0, 1, 2, 3, 4]\n",
    "list4 = [i for i in range(5)]\n",
    "# 列表对象创建\n",
    "tuple1 = ()\n",
    "tuple2 = (1,)\n",
    "tuple3 = tuple([1, 2])\n",
    "# 字符串对象创建\n",
    "s1 = \"\"\n",
    "s2 = ''\n",
    "s3 = str(1)\n",
    "s4 = str([1, 2, 3])\n",
    "s5 = str((1, 2))\n",
    "s6 = [1, 2, 3].__str__()\n",
    "# 数字序列对象创建\n",
    "r1 = range(5)\n",
    "r2 = range(3, 8)\n",
    "r3 = range(6, 2, -1)\n",
    "# 打印结果\n",
    "print(\"列表对象创建结果:\")\n",
    "print(list1)\n",
    "print(list2)\n",
    "print(list3)\n",
    "print(list4)\n",
    "print(\"元组对象创建结果:\")\n",
    "print(tuple1)\n",
    "print(tuple2)\n",
    "print(tuple3)\n",
    "print(\"字符串对象创建结果:\")\n",
    "print(s1)\n",
    "print(s2)\n",
    "print(s3)\n",
    "print(s4)\n",
    "print(s5)\n",
    "print(s6)\n",
    "print(\"数字序列对象创建结果:\")\n",
    "print(r1)\n",
    "print(r2)\n",
    "print(r3)\n"
   ]
  },
  {
   "cell_type": "markdown",
   "metadata": {},
   "source": [
    "2. 利用多种方法实现斐波那契数列的输出，并比较不同实现方法的性能。"
   ]
  },
  {
   "cell_type": "code",
   "execution_count": 26,
   "metadata": {
    "ExecuteTime": {
     "end_time": "2024-05-04T08:32:39.602540500Z",
     "start_time": "2024-05-04T08:32:39.573087500Z"
    }
   },
   "outputs": [
    {
     "name": "stdout",
     "output_type": "stream",
     "text": [
      "[1, 1, 2, 3, 5, 8, 13, 21, 34, 55]\n",
      "\u001B[32m method1 运行耗时 0.14400000145542435 ms \u001B[0m\n",
      "[1, 1, 2, 3, 5, 8, 13, 21, 34, 55]\n",
      "\u001B[32m method2 运行耗时 0.03380000271135941 ms \u001B[0m\n"
     ]
    }
   ],
   "source": [
    "# 如果需要比较耗时,因为运行输出数字太多,耗时信息可能难以找到,所以最好关闭斐波那契数列的打印语句,只打印运行耗时\n",
    "# 下一个代码块为只输出运行时间\n",
    "import time\n",
    "\n",
    "n = 10  # 太长了,这里只打印10项\n",
    "\n",
    "\n",
    "def printTime(func):  # 函数装饰器,统计并打印时间\n",
    "    def wrapper(*args, **kwargs):\n",
    "        start = time.perf_counter()\n",
    "        result = func(*args, **kwargs)  # 调用目标函数\n",
    "        end = time.perf_counter()\n",
    "        print(f\"\\033[32m {func.__name__} 运行耗时 {(end - start) * 1000} ms \\033[0m\")  # \"\\033[32m\"为带颜色输出\n",
    "        return result\n",
    "\n",
    "    return wrapper\n",
    "\n",
    "\n",
    "@printTime\n",
    "def method1(n):\n",
    "    \"\"\"\n",
    "    打印斐波那契数列前n项\n",
    "    \"\"\"\n",
    "    if n < 0:\n",
    "        raise Exception(\"项数非负\")\n",
    "    print(\"[\", end=\"\")\n",
    "\n",
    "    def fun(a, b, n):  # 递归函数\n",
    "        \"\"\"从a和b开始向后递推n项\"\"\"\n",
    "        if n == 0:  # 递归出口\n",
    "            return\n",
    "        print(a, end=', ')\n",
    "        fun(b, a + b, n - 1)  # f(n) = f(n-1) + f(n-2)\n",
    "\n",
    "    fun(1, 1, n)  # 使用函数栈进行递推\n",
    "    if n != 0:\n",
    "        print('\\b\\b', end='')\n",
    "    print(']')\n",
    "\n",
    "\n",
    "method1(n)\n",
    "\n",
    "\n",
    "@printTime\n",
    "def method2(n):\n",
    "    if n < 0:\n",
    "        raise Exception(\"项数非负\")\n",
    "    a, b = 0, 1\n",
    "    print(\"[\", end=\"\")\n",
    "    for i in range(n):\n",
    "        print(b, end=', ')\n",
    "        a, b = b, a + b  # 递推\n",
    "    if n != 0:\n",
    "        print('\\b\\b', end='')\n",
    "    print(\"]\")\n",
    "\n",
    "\n",
    "method2(n)"
   ]
  },
  {
   "cell_type": "code",
   "execution_count": 27,
   "outputs": [
    {
     "name": "stdout",
     "output_type": "stream",
     "text": [
      "\u001B[32m method1 运行耗时 0.8682000006956514  ms \u001B[0m\n",
      "\u001B[32m method2 运行耗时 0.21669999841833487  ms \u001B[0m\n"
     ]
    }
   ],
   "source": [
    "import time\n",
    "\n",
    "# 去除斐波那契数列的打印语句,只打印运行耗时版本\n",
    "\n",
    "n = 2900  # 最大递归深度在2900~3000之间, 超过最大递归深度报错\n",
    "\n",
    "\n",
    "def printTime(func):  # 函数装饰器,统计并打印时间\n",
    "    def wrapper(*args, **kwargs):\n",
    "        start = time.perf_counter()  #开始时间戳\n",
    "        result = func(*args, **kwargs)  # 调用目标函数\n",
    "        end = time.perf_counter()  #结束时间戳\n",
    "        runTime = (end - start) * 1000  # 单位为s,转为ms\n",
    "        print(f\"\\033[32m {func.__name__} 运行耗时 {runTime}  ms \\033[0m\")\n",
    "        return result\n",
    "\n",
    "    return wrapper\n",
    "\n",
    "\n",
    "@printTime\n",
    "def method1(n):\n",
    "    \"\"\"打印斐波那契数列前n项\"\"\"\n",
    "    if n < 0:\n",
    "        raise Exception(\"项数非负\")\n",
    "\n",
    "    def fun(a, b, n):\n",
    "        \"\"\"从a和b开始向后递推n项\"\"\"\n",
    "        if n == 0:\n",
    "            return\n",
    "        fun(b, a + b, n - 1)\n",
    "\n",
    "    fun(1, 1, n)  # 使用函数栈进行递推\n",
    "\n",
    "\n",
    "method1(n)\n",
    "\n",
    "\n",
    "@printTime\n",
    "def method2(n):\n",
    "    if n < 0:\n",
    "        raise Exception(\"项数非负\")\n",
    "    a, b = 0, 1\n",
    "    for i in range(n):\n",
    "        a, b = b, a + b  # 递推\n",
    "\n",
    "\n",
    "method2(n)"
   ],
   "metadata": {
    "collapsed": false,
    "ExecuteTime": {
     "end_time": "2024-05-04T08:32:42.828571100Z",
     "start_time": "2024-05-04T08:32:42.797762600Z"
    }
   }
  },
  {
   "cell_type": "markdown",
   "source": [
    "实验结果:\n",
    " method1使用了递归的方式实现打印斐波那契数列, 通过前两项的参数迭代, 求解出后一项, 以及项数n的每次减1控制了递归深度\n",
    " method2使用动态规划/递推的方式实现,两个滚动变量不断向后递推,循环n次, 即可求出前n项\n",
    "\n",
    "通过不同的项数n,测得method1的耗时大于method2的耗时, 因为method1是通过函数栈实现的, 函数栈的出栈入栈,以及传参花费了大量时间\n",
    "并且method1是递归实现,会受到函数栈最大递归深度的限制,综合来看,使用递推的方式会比递归更快更优\n",
    "\n",
    "另外, 如果只需要求第n项, 可以使用矩阵快速幂优化dp的方式,在O(logn)的复杂度下快速求解"
   ],
   "metadata": {
    "collapsed": false
   }
  },
  {
   "cell_type": "markdown",
   "metadata": {},
   "source": [
    "3. 有列表l=[54, 36, 75, 28, 50],请根据要求完成以下操作\n",
    "（1）在列表尾部插入元素42\n",
    "（2）在28前面插入元素66\n",
    "（3）删除并输出元素28\n",
    "（4）将列表按降序排列\n",
    "（5）清空整个列表。（教材93页第1题）"
   ]
  },
  {
   "cell_type": "code",
   "execution_count": 28,
   "metadata": {
    "ExecuteTime": {
     "end_time": "2024-05-04T08:32:45.585981900Z",
     "start_time": "2024-05-04T08:32:45.552257700Z"
    }
   },
   "outputs": [
    {
     "name": "stdout",
     "output_type": "stream",
     "text": [
      "初始列表: [54, 36, 75, 28, 50]\n",
      "（1）在列表尾部插入元素42\n",
      "执行结果: [54, 36, 75, 28, 50, 42]\n",
      "（2）在28前面插入元素66\n",
      "执行结果: [54, 36, 75, 66, 28, 50, 42]\n",
      "（3）删除并输出元素28\n",
      "执行结果: [54, 36, 75, 66, 50, 42]\n",
      "（4）将列表按降序排列\n",
      "执行结果: [75, 66, 54, 50, 42, 36]\n",
      "（5）清空整个列表。\n",
      "执行结果: []\n"
     ]
    }
   ],
   "source": [
    "l = [54, 36, 75, 28, 50]\n",
    "print(\"初始列表:\", l)\n",
    "print(\"（1）在列表尾部插入元素42\")\n",
    "l.append(42)\n",
    "print(\"执行结果:\", l)\n",
    "print(\"（2）在28前面插入元素66\")\n",
    "l.insert(l.index(28), 66)\n",
    "print(\"执行结果:\", l)\n",
    "print(\"（3）删除并输出元素28\")\n",
    "l.remove(28)\n",
    "print(\"执行结果:\", l)\n",
    "print(\"（4）将列表按降序排列\")\n",
    "l.sort(reverse=True)\n",
    "print(\"执行结果:\", l)\n",
    "print(\"（5）清空整个列表。\")\n",
    "l.clear()\n",
    "print(\"执行结果:\", l)"
   ]
  },
  {
   "cell_type": "markdown",
   "metadata": {},
   "source": [
    "4. 创建长度为20的列表，其元素为1000~5000以内得随机整数。编写程序找出列表中不能被10以内素数整除的元素。（教材93页第5题）"
   ]
  },
  {
   "cell_type": "code",
   "execution_count": 21,
   "outputs": [
    {
     "name": "stdout",
     "output_type": "stream",
     "text": [
      "生成的随机数: [4075, 1491, 3328, 2987, 2521, 1090, 4136, 3262, 4820, 2651, 4169, 4252, 3114, 4795, 4830, 1586, 1522, 1767, 4729, 4425]\n",
      "不能被10以内素数整除的元素有:[2987, 2521, 2651, 4169, 4729]\n"
     ]
    }
   ],
   "source": [
    "def isPrime(x: int) -> bool:\n",
    "    # 若 a*b=x, 且 a<=b, 则有a<=sqrt(x),b>=sqrt(x), 所以只需要遍历到sqrt(x)左右\n",
    "    s = int(math.sqrt(x)) + 1\n",
    "    for i in range(2, s):\n",
    "        if x % i == 0: return False\n",
    "    return x >= 2\n",
    "\n",
    "\n",
    "def canDiv(x: int, prime: list) -> bool:\n",
    "    for p in prime:\n",
    "        # if p > x: break # impossible: x∈[1000,5000], p<10\n",
    "        if x % p == 0: return True\n",
    "    return False\n",
    "\n",
    "\n",
    "prime = [i for i in range(11) if isPrime(i)]  # 计算10以内的素数,因为数据量太小,所以没有使用素数筛\n",
    "l = [random.randint(1000, 5001) for _ in range(20)]  # 生成20个随机数\n",
    "print(\"生成的随机数:\", l)\n",
    "\n",
    "ans = [num for num in l if not canDiv(num, prime)]  # 遍历列表找出不能被10以内的素数整除的元素\n",
    "# for num in l:\n",
    "#     if not canDiv(num, prime):\n",
    "#         ans.append(num)\n",
    "print(f\"不能被10以内素数整除的元素有:{ans}\")\n",
    "\n"
   ],
   "metadata": {
    "collapsed": false,
    "ExecuteTime": {
     "end_time": "2024-05-04T08:16:35.253278100Z",
     "start_time": "2024-05-04T08:16:35.141862700Z"
    }
   }
  },
  {
   "cell_type": "markdown",
   "source": [
    "5.请参考例4 - 9，用嵌套的列表存储运动会报名表（见表4 - 4），并编程完成如下操作。（教材93页第6题）\n",
    "(1) 求报名项目超过两项(含)的学生人数\n",
    "(2) 输出女生的报名情况\n",
    "(3) 输出所有报名3000m的学生姓名和性别"
   ],
   "metadata": {
    "collapsed": false
   }
  },
  {
   "cell_type": "code",
   "execution_count": 31,
   "outputs": [
    {
     "name": "stdout",
     "output_type": "stream",
     "text": [
      "初始报名表:\n",
      "   姓名      性别     100m   3000m     跳远      跳高   \n",
      "  王  平     男       √       √       x       x    \n",
      "  李  丽     女       x       √       x       √    \n",
      "  陈小梅      女       x       x       √       x    \n",
      "  孙洪涛      男       x       √       √       √    \n",
      "  方  亮     男       √       x       √       x    \n",
      "(1)  求报名项目超过两项(含)的学生人数\n",
      "报名项目超过两项(含)的学生人数为: 4人\n",
      "-------------------------------------------------\n",
      "(2) 输出女生的报名情况\n",
      "女生的报名情况:\n",
      "   姓名      性别     100m   3000m     跳远      跳高   \n",
      "  李  丽     女       x       √       x       √    \n",
      "  陈小梅      女       x       x       √       x    \n",
      "-------------------------------------------------\n",
      "(3)  输出所有报名3000m的学生姓名和性别\n",
      "   姓名      性别     100m   3000m     跳远      跳高   \n",
      "  王  平     男       √       √       x       x    \n",
      "  李  丽     女       x       √       x       √    \n",
      "  孙洪涛      男       x       √       √       √    \n"
     ]
    }
   ],
   "source": [
    "def show(title: list[str], people: list[str | int]) -> None:\n",
    "    \"\"\"\n",
    "    打印信息\n",
    "    @:param title 标题栏\n",
    "    @:param people 要打印的项\n",
    "    \"\"\"\n",
    "    for t in title:\n",
    "        print(f\"{t:^8}\", end='')\n",
    "    print()\n",
    "    for p in people:\n",
    "        for i in p:\n",
    "            s = i\n",
    "            if i == 0:\n",
    "                s = 'x'\n",
    "            elif i == 1:\n",
    "                s = '√'\n",
    "            print(f\"{s:^8}\", end='')\n",
    "        print()\n",
    "\n",
    "\n",
    "title = ['姓名', '性别', '100m', '3000m', '跳远', '跳高']\n",
    "sheet = [\n",
    "    ['王平', '男', 1, 1, 0, 0],\n",
    "    ['李丽', '女', 0, 1, 0, 1],\n",
    "    ['陈小梅', '女', 0, 0, 1, 0],\n",
    "    ['孙洪涛', '男', 0, 1, 1, 1],\n",
    "    ['方亮', '男', 1, 0, 1, 0],\n",
    "]\n",
    "print(\"初始报名表:\")\n",
    "show(title, sheet)\n",
    "print(\"(1)  求报名项目超过两项(含)的学生人数\")\n",
    "cnt = 0\n",
    "for p in sheet:\n",
    "    if p.count(1) >= 2:\n",
    "        cnt += 1\n",
    "print(f\"报名项目超过两项(含)的学生人数为: {cnt}人\")\n",
    "\n",
    "print(\"-------------------------------------------------\")\n",
    "print(\"(2) 输出女生的报名情况\")\n",
    "idx = title.index('性别')\n",
    "female = [p for p in sheet if p[idx] == '女']  # 筛选性别为'女'的人\n",
    "print(\"女生的报名情况:\")\n",
    "show(title, female)\n",
    "\n",
    "print(\"-------------------------------------------------\")\n",
    "print(\"(3)  输出所有报名3000m的学生姓名和性别\")\n",
    "idx = title.index('3000m')\n",
    "students = [p for p in sheet if p[idx] == 1]\n",
    "show(title, students)"
   ],
   "metadata": {
    "collapsed": false,
    "ExecuteTime": {
     "end_time": "2024-05-04T08:37:01.949955500Z",
     "start_time": "2024-05-04T08:37:01.897587700Z"
    }
   }
  },
  {
   "cell_type": "markdown",
   "metadata": {},
   "source": [
    "### 四 实验总结"
   ]
  },
  {
   "cell_type": "markdown",
   "source": [
    "对于练习列表、元组、字符串和数字序列对象的创建方法，我深刻认识到了这些数据结构在编程中的重要性。\n",
    "通过实际操作，我更加熟练地掌握了它们的创建和使用方法，能够根据不同的需求选择合适的数据结构。\n",
    "\n",
    "而在实现斐波那契数列的输出过程中，我尝试了多种方法。这让我明白，在解决问题时，往往有多种途径可以选择。\n",
    "通过比较不同实现方法的性能，我了解到不同方法在时间复杂度和空间复杂度上的差异。\n",
    "这使我在今后的编程中能够更加明智地选择算法，以提高程序的效率。\n",
    "\n",
    "此外，实验过程也让我更加熟悉了 Python 的编程风格和特点。\n",
    "它的简洁性和可读性让编程变得更加轻松和愉快。\n",
    "\n",
    "总之，通过这次实验，我不仅提高了自己的编程技能，还培养了分析问题、解决问题的能力。\n",
    "我相信这些经验和知识将对我今后的学习和工作产生积极的影响。\n",
    "\n"
   ],
   "metadata": {
    "collapsed": false
   }
  }
 ],
 "metadata": {
  "kernelspec": {
   "name": "python3",
   "language": "python",
   "display_name": "Python 3 (ipykernel)"
  },
  "language_info": {
   "codemirror_mode": {
    "name": "ipython",
    "version": 3
   },
   "file_extension": ".py",
   "mimetype": "text/x-python",
   "name": "python",
   "nbconvert_exporter": "python",
   "pygments_lexer": "ipython3",
   "version": "3.6.10"
  }
 },
 "nbformat": 4,
 "nbformat_minor": 4
}
