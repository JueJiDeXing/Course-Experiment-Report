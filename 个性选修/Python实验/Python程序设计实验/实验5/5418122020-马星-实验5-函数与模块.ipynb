{
 "cells": [
  {
   "cell_type": "markdown",
   "metadata": {},
   "source": [
    "## <center>实验五 函数与模块</center>"
   ]
  },
  {
   "cell_type": "markdown",
   "metadata": {},
   "source": [
    "姓名：马星 学号：5418122020 班级：计算机科学与技术(卓越工程师计划)221班"
   ]
  },
  {
   "cell_type": "markdown",
   "metadata": {},
   "source": [
    "### 一、实验目的\n",
    "1. 了解函数的基本概念，掌握函数的声明和调用方法和python内置函数的使用。\n",
    "2. 了解变量的作用域，掌握局部变量和全局变量的使用。\n",
    "3. 了解递归函数、匿名函数的概念和使用。\n",
    "4. 了解模块化的程序设计方法，学习通过调试窗口查看变量的值。"
   ]
  },
  {
   "cell_type": "markdown",
   "metadata": {},
   "source": [
    "### 二、实验内容\n",
    "1. 练习Python函数的声明和调用，学习python内置函数的使用。\n",
    "2. 练习Python模块化的程序设计与调试的方法，在调试窗口中查看变量的值。\n",
    "3. 利用匿名函数和递归函数进行程序。\n",
    "4. 完成教材139页的课后练习第4、5题。\n"
   ]
  },
  {
   "cell_type": "markdown",
   "metadata": {},
   "source": [
    "### 三 实验步骤"
   ]
  },
  {
   "cell_type": "markdown",
   "metadata": {},
   "source": [
    "1. 练习Python函数的声明和调用，学习python内置函数的使用。  "
   ]
  },
  {
   "cell_type": "code",
   "execution_count": null,
   "outputs": [],
   "source": [
    "# 声明函数\n",
    "def add(a: int, b: int) -> int:\n",
    "    return a + b\n",
    "\n",
    "\n",
    "def outer():  # 函数支持嵌套\n",
    "    def inner():\n",
    "        pass\n",
    "\n",
    "\n",
    "def method(*args, **kwargs):  # 可变参数列表\n",
    "    pass\n",
    "\n",
    "\n",
    "# 调用函数\n",
    "add(1, 2)\n",
    "# 内置函数使用\n",
    "lst = [\"ACCEPT\", \"Wrong Answer\", \"Time Limit Error\", \"RunTime Error\", \"Compile Error\", \"Unknown Error\"]\n",
    "sorted(lst, key=lambda x: len(x))  # 排序函数, 按长度排序\n",
    "print(max(lst))  # max:最大值函数; print:打印函数\n",
    "a, b = divmod(10, 3)  # divmod(x,y): return x//y, x%y\n",
    "\n"
   ],
   "metadata": {
    "collapsed": false
   }
  },
  {
   "cell_type": "markdown",
   "metadata": {},
   "source": []
  },
  {
   "cell_type": "markdown",
   "source": [
    "2. 练习Python模块化的程序设计与调试的方法，在调试窗口中查看变量的值。\n"
   ],
   "metadata": {
    "collapsed": false
   }
  },
  {
   "cell_type": "markdown",
   "source": [
    "\n"
   ],
   "metadata": {
    "collapsed": false
   }
  },
  {
   "cell_type": "markdown",
   "source": [
    "(1) 模块化的程序设计:\n",
    "\n",
    "首先编写模块\n",
    "\n",
    "<img src=\"模块.png\" width=600>\n",
    "\n",
    "再导入模块进行使用\n",
    "\n",
    "<img src=\"模块化测试.png\" width=600>\n",
    "\n",
    "\n",
    "(2) 调试窗口查看变量值:\n",
    "\n",
    "首先给程序在合适位置打上断点, 然后运行, 程序将会停在断点处\n",
    "\n",
    "<img src=\"打断点.png\" width=600>\n",
    "\n",
    "此时打开调试窗口, 里面可以看到变量的值\n",
    "\n",
    "<img src=\"调试窗口.png\" width=800>\n"
   ],
   "metadata": {
    "collapsed": false
   }
  },
  {
   "cell_type": "markdown",
   "metadata": {},
   "source": [
    "3. 利用匿名函数和递归函数进行程序。"
   ]
  },
  {
   "cell_type": "code",
   "execution_count": null,
   "outputs": [],
   "source": [
    "# 匿名函数\n",
    "square = lambda x: x ** 2  # x的平方\n",
    "print(square(5))  #输出25\n",
    "\n",
    "is_even = lambda x: x % 2 == 0  # 判断x是否为偶数\n",
    "print(is_even(6))  # 输出：True\n",
    "\n",
    "\n",
    "# 递归函数1 - 不使用加法、减法、位运算实现a+b\n",
    "def add(a, b):\n",
    "    def oneDigitAdd(a: int, b: int) -> int:\n",
    "        \"\"\"一位十进制数相加\"\"\"\n",
    "        map = [\n",
    "            [0, 1, 2, 3, 4, 5, 6, 7, 8, 9],\n",
    "            [1, 2, 3, 4, 5, 6, 7, 8, 9, 10],\n",
    "            [2, 3, 4, 5, 6, 7, 8, 9, 10, 11],\n",
    "            [3, 4, 5, 6, 7, 8, 9, 10, 11, 12],\n",
    "            [4, 5, 6, 7, 8, 9, 10, 11, 12, 13],\n",
    "            [5, 6, 7, 8, 9, 10, 11, 12, 13, 14],\n",
    "            [6, 7, 8, 9, 10, 11, 12, 13, 14, 15],\n",
    "            [7, 8, 9, 10, 11, 12, 13, 14, 15, 16],\n",
    "            [8, 9, 10, 11, 12, 13, 14, 15, 16, 17],\n",
    "            [9, 10, 11, 12, 13, 14, 15, 16, 17, 18]\n",
    "        ]\n",
    "        return map[a][b]\n",
    "\n",
    "    a, b = str(a), str(b)\n",
    "    res = []\n",
    "\n",
    "    def f(i: int, carry: int) -> None:\n",
    "        \"\"\"递归函数, 计算a+b, 当前是第i位, 低位进位为carry\"\"\"\n",
    "        if i > len(a) and i > len(b):  # 递归出口: a和b每一位都加完了\n",
    "            if carry != 0:\n",
    "                res.append(str(carry))\n",
    "            return\n",
    "        # a和b对应位相加\n",
    "        if i <= len(a) and i <= len(b):\n",
    "            add = oneDigitAdd(int(a[-i]), int(b[-i]))\n",
    "        elif i <= len(a):\n",
    "            add = int(a[-1])\n",
    "        else:\n",
    "            add = int(b[-1])\n",
    "        high, low = add // 10, add % 10  # 进位和本位\n",
    "        low = oneDigitAdd(low, carry)  # 本位再和低位进位相加,\n",
    "        if high == 0:\n",
    "            # 进位为1 -> 本位+低位进位不可能再进位, carry最大为1\n",
    "            # 进位为0 -> 本位+低位进位可能发生进位\n",
    "            high, low = low // 10, low % 10\n",
    "        res.append(str(low))\n",
    "        f(i + 1, high)  # 递归计算下一位\n",
    "\n",
    "    f(1, 0)\n",
    "\n",
    "    return \"\".join(res[::-1])\n",
    "\n",
    "\n",
    "a, b = map(int, input(\"请输入加数a和b: \").split())\n",
    "print(f\"{a} + {b} = {add(a, b)}\")\n",
    "\n",
    "\n",
    "#  递归函数2 - 约瑟夫问题递归解法\n",
    "def josephus(n: int, m: int):\n",
    "    \"\"\"\n",
    "    f(N,M): N个人站成环形,编号从1开始,从1号开始每m个人出局,最后剩余的人编号为多少\n",
    "    第M个人出局 -> 剩余N-1个人 -> 在大小为N-1的问题中解的编号偏移为M\n",
    "    f(N,M) = (f(N−1,M) + M) % N\n",
    "    \"\"\"\n",
    "    if n == 1: return 0;\n",
    "    return (josephus(n - 1, m) + m) % n\n",
    "\n",
    "\n",
    "n, m = map(int, input(\"请输入人数n和出局数字m: \").split())\n",
    "print(\"最后剩余的人编号为: \", josephus(n, m))\n"
   ],
   "metadata": {
    "collapsed": false,
    "is_executing": true
   }
  },
  {
   "cell_type": "markdown",
   "source": [
    "\n"
   ],
   "metadata": {
    "collapsed": false
   }
  },
  {
   "cell_type": "markdown",
   "source": [
    "5. 完成教材139页的课后练习第4题。\n",
    "编写函数avg(lst),参数lst是一个列表. 函数可以返回lst的整数平均值return int(sum(lst)/len(lst)),调用avg(lst)函数求每个学生的平均成绩\n",
    "已知成绩列表s={'小李':[77,54],'小张':[89,66,78,99],'小陈':[90],'小杨':[69,58,93]}"
   ],
   "metadata": {
    "collapsed": false
   }
  },
  {
   "cell_type": "code",
   "execution_count": 1,
   "metadata": {
    "ExecuteTime": {
     "end_time": "2024-04-21T07:24:13.820777200Z",
     "start_time": "2024-04-21T07:24:13.810622900Z"
    }
   },
   "outputs": [
    {
     "name": "stdout",
     "output_type": "stream",
     "text": [
      "{'小李': 65, '小张': 83, '小陈': 90, '小杨': 73}\n"
     ]
    }
   ],
   "source": [
    "def avg(lst: list[int]) -> int:\n",
    "    return int(sum(lst) / len(lst))\n",
    "\n",
    "\n",
    "s = {'小李': [77, 54], '小张': [89, 66, 78, 99], '小陈': [90], '小杨': [69, 58, 93]}\n",
    "ans = {}\n",
    "for name, scores in s.items():\n",
    "    ans[name] = avg(scores)\n",
    "print(ans)"
   ]
  },
  {
   "cell_type": "markdown",
   "source": [
    "5. 完成教材139页的课后练习第5题。\n",
    "现有一个字典存放着学生的学号和成绩. 成绩列表里的3个数据分别是学生的语文,数学和英语成绩:\n",
    "dict={'01':[67,88,45],'02':[97,68,85],'03':[97,98,95],'04':[67,48,45],'05':[82,58,75],'06':[96,49,65]}\n",
    "完成以下操作:\n",
    "(1) 编写函数,返回每门成绩均大于85的学生的学号\n",
    "(2) 编写函数,返回每一个学号对应的平均分和总分,结果保留2位小数\n",
    "(3) 编写函数,返回按总分升序排列的学号列表"
   ],
   "metadata": {
    "collapsed": false
   }
  },
  {
   "cell_type": "code",
   "execution_count": 3,
   "metadata": {
    "ExecuteTime": {
     "end_time": "2024-04-21T07:38:11.585068500Z",
     "start_time": "2024-04-21T07:38:11.534454400Z"
    }
   },
   "outputs": [
    {
     "name": "stdout",
     "output_type": "stream",
     "text": [
      "成绩均大于85的学生学号有: ['03']\n",
      "每一个学生的平均分和总分: [(66.67, 200), (83.33, 250), (96.67, 290), (53.33, 160), (71.67, 215), (70.0, 210)]\n",
      "按总分升序排序的学号为: ['04', '01', '06', '05', '02', '03']\n"
     ]
    }
   ],
   "source": [
    "def getID(dic: dict[str:list[int]], minScore: int) -> list[str]:\n",
    "    ans = []\n",
    "    for id, scores in dic.items():\n",
    "        if min(scores) > minScore:\n",
    "            ans.append(id)\n",
    "    return ans\n",
    "\n",
    "\n",
    "def getAvgAndSum(dic: dict[str:list[int]]) -> list[tuple[float, int]]:\n",
    "    def avg(lst: list[int]) -> float:\n",
    "        return round(sum(lst) / len(lst), 2)\n",
    "\n",
    "    ans = []\n",
    "    for scores in dic.values():\n",
    "        ans.append((avg(scores), sum(scores)))\n",
    "    return ans\n",
    "\n",
    "\n",
    "def getIDOrderBySum(dic: dict[str:list[int]]) -> list[str]:\n",
    "    ans = []\n",
    "    for id, scores in dic.items():\n",
    "        ans.append((id, sum(scores)))\n",
    "    ans.sort(key=lambda o: o[1])\n",
    "    ans = [o[0] for o in ans]\n",
    "    return ans\n",
    "\n",
    "\n",
    "dic = {'01': [67, 88, 45], '02': [97, 68, 85], '03': [97, 98, 95], '04': [67, 48, 45], '05': [82, 58, 75],\n",
    "       '06': [96, 49, 65]}\n",
    "print(f\"成绩均大于85的学生学号有: {getID(dic, 85)}\")\n",
    "print(f\"每一个学生的平均分和总分: {getAvgAndSum(dic)}\")\n",
    "print(f\"按总分升序排序的学号为: {getIDOrderBySum(dic)}\")\n"
   ]
  },
  {
   "cell_type": "markdown",
   "metadata": {},
   "source": [
    "### 四 实验总结"
   ]
  },
  {
   "cell_type": "markdown",
   "source": [
    "本次实验的目的是了解函数的基本概念，掌握函数的声明和调用方法，以及Python内置函数的使用。\n",
    "同时，我们还需要了解变量的作用域，掌握局部变量和全局变量的使用。\n",
    "此外，我们还学习了递归函数、匿名函数的概念和使用，以及模块化的程序设计方法。\n",
    "\n",
    "在实验内容方面，我们首先练习了Python函数的声明和调用，并学习了Python内置函数的使用。\n",
    "通过这些练习，我们对函数有了更深入的理解，并能够熟练地使用它们。\n",
    "\n",
    "接下来，我们进行了Python模块化的程序设计与调试的练习，并在调试窗口中查看了变量的值。\n",
    "这一部分的学习使我们更加熟悉了模块化的程序设计方法，并掌握了如何通过调试窗口查看变量的值。\n",
    "\n",
    "在实验的后半部分，我们利用匿名函数和递归函数进行了程序设计。\n",
    "通过这些练习，我们对匿名函数和递归函数有了更深入的理解，并能够灵活地使用它们。\n",
    "\n",
    "最后，我们完成了教材139页的课后练习第4、5题。\n",
    "这两个题目涉及到了函数的声明和调用，以及模块化的程序设计方法。\n",
    "通过完成这两个题目，我们对本次实验的内容有了更全面的掌握。\n",
    "\n",
    "总的来说，本次实验对于理解函数的概念、掌握函数的声明和调用方法，以及学习Python内置函数的使用非常有帮助。\n",
    "同时，我们也对变量的作用域、局部变量和全局变量的使用有了更深入的了解\n",
    "。此外，我们还学习了递归函数、匿名函数的概念和使用，以及模块化的程序设计方法，这对我们今后的编程学习将有很大的帮助。"
   ],
   "metadata": {
    "collapsed": false
   }
  }
 ],
 "metadata": {
  "kernelspec": {
   "name": "python3",
   "language": "python",
   "display_name": "Python 3 (ipykernel)"
  },
  "language_info": {
   "codemirror_mode": {
    "name": "ipython",
    "version": 3
   },
   "file_extension": ".py",
   "mimetype": "text/x-python",
   "name": "python",
   "nbconvert_exporter": "python",
   "pygments_lexer": "ipython3",
   "version": "3.6.10"
  }
 },
 "nbformat": 4,
 "nbformat_minor": 4
}
