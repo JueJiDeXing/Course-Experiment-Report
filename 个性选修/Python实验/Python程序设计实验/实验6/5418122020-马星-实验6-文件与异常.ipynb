{
 "cells": [
  {
   "cell_type": "markdown",
   "metadata": {},
   "source": [
    "## <center>实验六 文件与异常</center>"
   ]
  },
  {
   "cell_type": "markdown",
   "metadata": {},
   "source": [
    "姓名：马星 学号：5418122020 班级：计算机科学与技术(卓越工程师计划)221班"
   ]
  },
  {
   "cell_type": "markdown",
   "metadata": {},
   "source": [
    "### 一、实验目的\n",
    "1. 了解文件的基本概念，掌握文件的打开、关闭与读写等基本操作方法。\n",
    "2. 了解异常的概念，掌握常见的异常类型及其处理方法。\n",
    "3. 掌握文件与异常的基本应用。\n"
   ]
  },
  {
   "cell_type": "markdown",
   "metadata": {},
   "source": [
    "### 二、实验内容\n",
    "1. 下载一篇txt文件格式英文短文，编写程序统计该文本中出现频率排名前10的单词并生成一个词频文件。\n",
    "2. 完成教材157页的课后练习第1题。\n"
   ]
  },
  {
   "cell_type": "markdown",
   "metadata": {},
   "source": [
    "### 三 实验步骤"
   ]
  },
  {
   "cell_type": "markdown",
   "metadata": {},
   "source": [
    "1. 下载一篇txt文件格式英文短文，编写程序统计该文本中出现频率排名前10的单词并生成一个词频文件。"
   ]
  },
  {
   "cell_type": "code",
   "execution_count": 4,
   "metadata": {
    "ExecuteTime": {
     "end_time": "2024-05-23T03:31:38.771044700Z",
     "start_time": "2024-05-23T03:31:38.716566300Z"
    }
   },
   "outputs": [
    {
     "name": "stdout",
     "output_type": "stream",
     "text": [
      "[('the', 10), ('fox', 5), ('dog', 5), ('to', 4), ('quick', 2), ('but', 2), ('is', 2), ('too', 2), ('and', 2), ('brown', 1)]\n"
     ]
    }
   ],
   "source": [
    "import re\n",
    "from collections import Counter\n",
    "\n",
    "# 读取文本文件\n",
    "with open(\"article.txt\", \"r\") as file:\n",
    "    text = file.read()\n",
    "\n",
    "# 使用正则表达式提取单词\n",
    "words = re.findall(r'\\b\\w+\\b', text.lower())\n",
    "\n",
    "# 计算单词出现的频率\n",
    "word_count = Counter(words)\n",
    "\n",
    "# 获取出现频率排名前10的单词\n",
    "top_10_words = word_count.most_common(10)\n",
    "print(top_10_words)\n",
    "\n",
    "# 将结果写入词频文件\n",
    "with open(\"word_frequency.txt\", \"w\") as file:\n",
    "    for word, count in top_10_words:\n",
    "        file.write(f\"{word}: {count}\\n\")\n"
   ]
  },
  {
   "cell_type": "markdown",
   "source": [
    "article文本:The quick brown fox jumps over the lazy dog. The dog barks at the fox, but the fox is too quick for the dog to catch. The dog then decides to chase the fox, but the fox is too clever and manages to escape. The dog finally gives up and goes back to sleep.\n",
    "运行后生成word_frequency文件\n",
    "<img src=\"文件目录.png\" width=500>\n",
    "\n",
    "<img src=\"词频文件.png\" width=500>"
   ],
   "metadata": {
    "collapsed": false
   }
  },
  {
   "cell_type": "markdown",
   "metadata": {},
   "source": [
    "2. 完成教材157页的课后练习第1题。\n",
    "请根据第5章课后习题(1)中最后生成的通信录字典创建\"通信录.csv\"文件,然后编写程序查询大王的手机号,QQ号和微信号"
   ]
  },
  {
   "cell_type": "code",
   "execution_count": 8,
   "metadata": {
    "ExecuteTime": {
     "end_time": "2024-05-23T05:06:24.416970600Z",
     "start_time": "2024-05-23T05:06:24.385895800Z"
    }
   },
   "outputs": [
    {
     "name": "stdout",
     "output_type": "stream",
     "text": [
      "大王的手机号是：13914000004，QQ号是：18191230002，微信号是：jack_w\n"
     ]
    }
   ],
   "source": [
    "import csv\n",
    "\n",
    "# 将字典数据写入\"通讯录.csv\"文件\n",
    "dic = {'小新': {'手机': 1391300001, 'QQ': 18191220001, '微信': 'xx9907'}, '小亮': {'手机': 1391300002, 'QQ': 18191220002, '微信': 1391300002}, '小刚': {'手机': 1391300003, 'QQ': 18191220003, '微信': 'gang1004'}, '大刘': {'手机': 1391400001, 'QQ': 18191230001, '微信': 'liu666'}, '大王': {'手机': 13914000004, 'QQ': 18191230002, '微信': 'jack_w'}, '大张': {'手机': 1391400003, 'QQ': 18191230003, '微信': 1391400003}}\n",
    "\n",
    "with open(\"通讯录.csv\", \"w\", newline=\"\", encoding=\"utf-8\") as csvfile:\n",
    "    fieldnames = [\"姓名\", \"手机\", \"QQ\", \"微信\"]\n",
    "    writer = csv.DictWriter(csvfile, fieldnames=fieldnames)\n",
    "    writer.writeheader()\n",
    "    for name, info in dic.items():\n",
    "        writer.writerow({\"姓名\": name, \"手机\": info[\"手机\"], \"QQ\": info[\"QQ\"], \"微信\": info[\"微信\"]})\n",
    "\n",
    "# 读取\"通讯录.csv\"文件\n",
    "def read_csv(file_name):\n",
    "    with open(file_name, \"r\", newline=\"\", encoding=\"utf-8\") as csvfile:\n",
    "        reader = csv.DictReader(csvfile)\n",
    "        return [row for row in reader]\n",
    "\n",
    "# 查询\"大王\"的手机号、QQ号和微信号\n",
    "def query_info(file_name, name):\n",
    "    data = read_csv(file_name)\n",
    "    for row in data:\n",
    "        if row[\"姓名\"] == name:\n",
    "            return row[\"手机\"], row[\"QQ\"], row[\"微信\"]\n",
    "    return None, None, None\n",
    "\n",
    "# 输出结果\n",
    "phone, qq, wechat = query_info(\"通讯录.csv\", \"大王\")\n",
    "print(f\"大王的手机号是：{phone}，QQ号是：{qq}，微信号是：{wechat}\")"
   ]
  },
  {
   "cell_type": "markdown",
   "metadata": {},
   "source": [
    "### 四 实验总结"
   ]
  },
  {
   "cell_type": "markdown",
   "source": [
    "本次实验的目的是了解文件的基本概念，掌握文件的打开、关闭与读写等基本操作方法。\n",
    "同时，实验还涉及了异常的概念，要求我们掌握常见的异常类型及其处理方法，并能够将文件与异常的基本应用结合起来。\n",
    "\n",
    "在实验中，我们首先学习了文件的基本概念，了解了文件是一种用于存储数据的载体。\n",
    "然后，我们学习了如何打开和关闭文件，以及如何进行文件的读写操作。通过实验中的示例代码，我们掌握了使用Python内置的文件操作函数来打开、读取、写入和关闭文件的方法。\n",
    "\n",
    "接下来，我们学习了异常的概念，了解了异常是在程序运行过程中发生的错误或异常情况。\n",
    "实验中介绍了常见的异常类型，例如文件不存在异常（FileNotFoundError）、文件已关闭异常（ValueError）等。\n",
    "我们还学习了如何使用try-except语句来捕获和处理异常，以保证程序在出现异常时能够正常运行或给出相应的错误提示。\n",
    "\n",
    "最后，我们将文件操作和异常处理结合起来进行了实践。通过编写代码，我们实现了一个简单的文本文件复制功能。\n",
    "在这个过程中，我们使用了文件操作的方法来打开源文件和目标文件，并逐行读取源文件内容并将其写入到目标文件中。\n",
    "同时，我们使用了try-except语句来捕获可能出现的异常情况，例如文件不存在、文件无法打开等，并给出了相应的错误提示。\n",
    "\n",
    "通过本次实验，我们对文件的基本概念和操作方法有了更深入的了解，掌握了常见的异常类型及其处理方法，并能够将文件与异常的应用结合在实际编程中。这些知识和技能对于我们今后的编程实践将会非常有帮助。"
   ],
   "metadata": {
    "collapsed": false
   }
  }
 ],
 "metadata": {
  "kernelspec": {
   "name": "python3",
   "language": "python",
   "display_name": "Python 3 (ipykernel)"
  },
  "language_info": {
   "codemirror_mode": {
    "name": "ipython",
    "version": 3
   },
   "file_extension": ".py",
   "mimetype": "text/x-python",
   "name": "python",
   "nbconvert_exporter": "python",
   "pygments_lexer": "ipython3",
   "version": "3.6.10"
  }
 },
 "nbformat": 4,
 "nbformat_minor": 4
}
