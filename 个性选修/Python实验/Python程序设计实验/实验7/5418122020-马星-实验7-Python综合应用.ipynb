{
 "cells": [
  {
   "cell_type": "markdown",
   "metadata": {},
   "source": [
    "## <center>实验七 Python综合应用</center>"
   ]
  },
  {
   "cell_type": "markdown",
   "metadata": {},
   "source": [
    "姓名：马星 学号：5418122020 班级：计算机科学与技术(卓越工程师计划)221班"
   ]
  },
  {
   "cell_type": "markdown",
   "metadata": {},
   "source": [
    "### 一、实验目的\n",
    "1. 了解Python在文本分析、科学计算和数据分析等方面得具体应用。\n",
    "2. 掌握Python应用程序得的编写方法。\n"
   ]
  },
  {
   "cell_type": "markdown",
   "metadata": {},
   "source": [
    "### 二、实验内容\n",
    "1. 下载一篇格式为文本文件的中文小说，制作高频词云并统计出场次数最多的10个人物。\n",
    "2. 完成教材216页的课后练习第1、2题。\n",
    "\n"
   ]
  },
  {
   "cell_type": "markdown",
   "metadata": {},
   "source": [
    "### 三 实验步骤"
   ]
  },
  {
   "cell_type": "markdown",
   "metadata": {},
   "source": [
    "1. 下载一篇格式为文本文件的中文小说，制作高频词云并统计出场次数最多的10个人物。"
   ]
  },
  {
   "cell_type": "code",
   "execution_count": null,
   "metadata": {},
   "outputs": [],
   "source": [
    "from jieba import posseg\n",
    "from collections import Counter\n",
    "from wordcloud import WordCloud\n",
    "import matplotlib.pyplot as plt\n",
    "\n",
    "\n",
    "def countName(words):\n",
    "    # 筛选出人名\n",
    "    names = [word for word, flag in words if flag == 'nr']\n",
    "    name_count = Counter(names)\n",
    "    # 输出前10个出现次数最高的人名\n",
    "    print(\"前10个出现次数最高的人名:\")\n",
    "    for name, count in name_count.most_common(10):\n",
    "        print(f\"{name}: {count}\")\n",
    "\n",
    "\n",
    "def wordCloud(words):\n",
    "    # 统计所有词的出现次数\n",
    "    all_words = [word for word, flag in words]\n",
    "    word_count = Counter(all_words)\n",
    "    word_count.pop('\\n')\n",
    "    # 创建WordCloud对象\n",
    "    wordcloud = WordCloud(width=800, height=400, background_color='white', max_words=100, font_path='simhei.ttf',\n",
    "                          prefer_horizontal=0.9, min_font_size=10, max_font_size=100)\n",
    "    # 根据Counter对象生成词云\n",
    "    wordcloud.generate_from_frequencies(word_count)\n",
    "    # 设置词云参数\n",
    "    wordcloud.to_file('wordcloud.png')\n",
    "    # 展示词云图\n",
    "    plt.imshow(wordcloud)\n",
    "    plt.axis('off')\n",
    "    plt.show()\n",
    "\n",
    "\n",
    "# 读取文本文件\n",
    "with open(\"大奉打更人.txt\", \"r\", encoding=\"utf-8\") as f:\n",
    "    text = f.read()\n",
    "\n",
    "# 使用jieba库对文本进行分词\n",
    "words = posseg.cut(text)\n",
    "words = [(word, flag) for word, flag in words if flag is not None]\n",
    "countName(words)\n",
    "wordCloud(words)\n"
   ]
  },
  {
   "cell_type": "markdown",
   "source": [
    "输出:\n",
    "<img src=\"输出.png\" width=800>\n",
    "生成的词云:\n",
    "<img src=\"wordcloud.png\" width=800>"
   ],
   "metadata": {
    "collapsed": false
   }
  },
  {
   "cell_type": "markdown",
   "metadata": {},
   "source": [
    "2. 完成教材216页的课后练习第1题。\n",
    "利用numpy库中的多项式处理函数,计算函数f(x)=x**5+2*x**3+1,当x=2和x=5时的值,并输出f(x)的一阶导数和二阶导数"
   ]
  },
  {
   "cell_type": "code",
   "execution_count": 5,
   "metadata": {
    "ExecuteTime": {
     "end_time": "2024-05-31T08:18:49.982741800Z",
     "start_time": "2024-05-31T08:18:49.957860400Z"
    }
   },
   "outputs": [
    {
     "name": "stdout",
     "output_type": "stream",
     "text": [
      "f(2) = 25\n",
      "f(5) = 676\n",
      "f(x)的一阶导数为:\n",
      "    3\n",
      "4 x + 4 x\n",
      "f(x)的二阶导数为:\n",
      "     2\n",
      "12 x + 4\n"
     ]
    }
   ],
   "source": [
    "import numpy as np\n",
    "\n",
    "# 创建多项式对象\n",
    "coefficients = [1, 0, 2, 0, 1]  # 对应于 x**5 + 2*x**3 + 1\n",
    "p = np.poly1d(coefficients)\n",
    "\n",
    "# 计算一阶导数和二阶导数\n",
    "p_derivative_1 = p.deriv()\n",
    "p_derivative_2 = p_derivative_1.deriv()\n",
    "\n",
    "# 计算x=2和x=5时的值\n",
    "value_at_2 = p(2)\n",
    "value_at_5 = p(5)\n",
    "\n",
    "print(\"f(2) =\", value_at_2)\n",
    "print(\"f(5) =\", value_at_5)\n",
    "print(\"f(x)的一阶导数为:\\n\", p_derivative_1)\n",
    "print(\"f(x)的二阶导数为:\\n\", p_derivative_2)\n"
   ]
  },
  {
   "cell_type": "markdown",
   "source": [
    "3. 完成教材216页的课后练习第2题。\n",
    "绘制以下函数的图像:\n",
    "(1) f(x)=sin(x)+x**2, [0,2PI]\n",
    "(2) f(x)=x**3+2*x**2+1,[-2,2]"
   ],
   "metadata": {
    "collapsed": false
   }
  },
  {
   "cell_type": "code",
   "execution_count": null,
   "metadata": {},
   "outputs": [],
   "source": [
    "import numpy as np\n",
    "import matplotlib.pyplot as plt\n",
    "\n",
    "\n",
    "def fun1():\n",
    "    # (1) f(x)=sin(x)+x**2, [0,2PI]\n",
    "    x = np.linspace(0, 2 * np.pi, 400)  # 生成[0, 2PI]区间内的400个x值\n",
    "    y = np.sin(x) + x ** 2  # 计算对应的y值\n",
    "    plt.figure()  # 创建一个新的图像\n",
    "    plt.plot(x, y, label='f(x)=sin(x)+x^2')  # 绘制第一个函数的图像\n",
    "    plt.title('Plot of f(x)=sin(x)+x^2 for x in [0, 2PI]')  # 设置图像标题\n",
    "    plt.xlabel('x')  # 设置x轴标签\n",
    "    plt.ylabel('y')  # 设置y轴标签\n",
    "    plt.legend()  # 显示图例\n",
    "    plt.savefig(\"fun1.png\")\n",
    "    plt.show()  # 显示图像\n",
    "\n",
    "\n",
    "def fun2():\n",
    "    # (2) f(x)=x**3+2*x**2+1,[-2,2]\n",
    "    x = np.linspace(-2, 2, 400)  # 生成[-2, 2]区间内的400个x值\n",
    "    y = x ** 3 + 2 * x ** 2 + 1  # 计算对应的y值\n",
    "    plt.plot(x, y, label='f(x)=x^3+2*x^2+1')  # 在同一张图像上绘制第二个函数的图像\n",
    "    plt.title('Plot of f(x)=x^3+2*x^2+1 for x in [-2, 2]')  # 更新图像标题\n",
    "    plt.legend()  # 更新图例\n",
    "    plt.savefig(\"fun2.png\")\n",
    "    plt.show()  # 显示图像\n",
    "\n",
    "fun1()\n",
    "# fun2()\n",
    "\n"
   ]
  },
  {
   "cell_type": "markdown",
   "source": [
    "<img src=\"fun1.png\" width=800>\n",
    "<img src=\"fun2.png\" width=800>"
   ],
   "metadata": {
    "collapsed": false
   }
  },
  {
   "cell_type": "markdown",
   "metadata": {},
   "source": [
    "### 四 实验总结"
   ]
  },
  {
   "cell_type": "markdown",
   "source": [
    "本次实验主要涵盖了 Python 在不同领域的应用。\n",
    "在文本分析方面，成功下载中文小说文本文件，制作出了高频词云并统计出了出场次数最多的 10 个人物，这让我们直观地看到了小说中重要的词汇和人物。\n",
    "在科学计算和数据分析中，利用 numpy 库的多项式处理函数，计算了特定函数在不同 x 值下的值，并输出了一阶导数和二阶导数，加深了对函数计算和导数概念的理解。\n",
    "最后，通过绘制不同函数的图像，如正弦函数与二次函数的组合以及三次函数与二次函数的组合，进一步掌握了利用 Python 绘制函数图像的方法。\n",
    "总的来说，本次实验让我们更深入地了解了 Python 在多个方面的强大功能和具体应用，提升了我们的编程能力和对相关知识的掌握程度。"
   ],
   "metadata": {
    "collapsed": false
   }
  }
 ],
 "metadata": {
  "kernelspec": {
   "name": "python3",
   "language": "python",
   "display_name": "Python 3 (ipykernel)"
  },
  "language_info": {
   "codemirror_mode": {
    "name": "ipython",
    "version": 3
   },
   "file_extension": ".py",
   "mimetype": "text/x-python",
   "name": "python",
   "nbconvert_exporter": "python",
   "pygments_lexer": "ipython3",
   "version": "3.6.10"
  }
 },
 "nbformat": 4,
 "nbformat_minor": 4
}
